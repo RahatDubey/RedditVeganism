{
 "cells": [
  {
   "cell_type": "code",
   "execution_count": null,
   "metadata": {},
   "outputs": [],
   "source": [
    "SELECT\n",
    "  sub_a,\n",
    "  sub_b,\n",
    "  people,\n",
    "FROM (\n",
    "  SELECT\n",
    "    sub_a,\n",
    "    sub_b,\n",
    "    people,\n",
    "    COUNT(*) OVER(PARTITION BY sub_a) \n",
    "  FROM (\n",
    "    SELECT\n",
    "      a.subreddit sub_a,\n",
    "      b.subreddit sub_b,\n",
    "      COUNT(*) people\n",
    "    FROM (\n",
    "      SELECT\n",
    "        author,\n",
    "        subreddit,\n",
    "        authors\n",
    "      FROM\n",
    "        FLATTEN((\n",
    "          SELECT\n",
    "            UNIQUE(author) author,\n",
    "            a.subreddit subreddit,\n",
    "            FIRST(authors) authors\n",
    "          FROM\n",
    "            [fh-bigquery:reddit_comments.2019_07] a\n",
    "          JOIN\n",
    "            [fh-bigquery:reddit_comments.subr_rank_201505] b\n",
    "          ON\n",
    "            a.subreddit=b.subreddit\n",
    "          GROUP EACH BY\n",
    "            2 ),\n",
    "          author) ) a\n",
    "    JOIN EACH (\n",
    "      SELECT\n",
    "        author,\n",
    "        subreddit\n",
    "      FROM\n",
    "        FLATTEN((\n",
    "          SELECT\n",
    "            UNIQUE(author) author,\n",
    "            subreddit\n",
    "          FROM\n",
    "            [fh-bigquery:reddit_comments.2019_07]\n",
    "          WHERE\n",
    "            subreddit IN (\n",
    "            SELECT\n",
    "              subreddit\n",
    "            FROM\n",
    "              [fh-bigquery:reddit_comments.subr_rank_201505] )\n",
    "          GROUP BY\n",
    "            2 ),\n",
    "          author) ) b\n",
    "    ON\n",
    "      a.author=b.author\n",
    "    WHERE\n",
    "      a.subreddit!=b.subreddit\n",
    "      AND ( (a.subreddit='vegan' AND b.subreddit='nfl') OR (a.subreddit ='vegan' AND b.subreddit = 'nba') \n",
    "      OR (a.subreddit = 'vegan' AND b.subreddit = 'Boxing') OR (a.subreddit = 'vegan' AND b.subreddit = 'baseball') OR (a.subreddit = 'vegan' AND b.subreddit = 'soccer'))\n",
    "      OR (a.subreddit = 'vegan' AND b.subreddit = 'Conservative') OR (a.subreddit = 'vegan' AND b.subreddit = 'Liberal') OR (a.subreddit = 'vegan' AND b.subreddit = 'programming') \n",
    "      OR (a.subreddit = 'vegan' AND b.subreddit = 'datascience')\n",
    "    GROUP EACH BY\n",
    "      1,\n",
    "      2 ) )\n",
    "ORDER BY\n",
    "  people DESC\n",
    "    \n",
    "#This is the sql query I used"
   ]
  },
  {
   "cell_type": "code",
   "execution_count": 2,
   "metadata": {},
   "outputs": [
    {
     "data": {
      "text/html": [
       "<div>\n",
       "<style scoped>\n",
       "    .dataframe tbody tr th:only-of-type {\n",
       "        vertical-align: middle;\n",
       "    }\n",
       "\n",
       "    .dataframe tbody tr th {\n",
       "        vertical-align: top;\n",
       "    }\n",
       "\n",
       "    .dataframe thead th {\n",
       "        text-align: right;\n",
       "    }\n",
       "</style>\n",
       "<table border=\"1\" class=\"dataframe\">\n",
       "  <thead>\n",
       "    <tr style=\"text-align: right;\">\n",
       "      <th></th>\n",
       "      <th>sub_a</th>\n",
       "      <th>sub_b</th>\n",
       "      <th>people</th>\n",
       "    </tr>\n",
       "  </thead>\n",
       "  <tbody>\n",
       "    <tr>\n",
       "      <td>0</td>\n",
       "      <td>vegan</td>\n",
       "      <td>nba</td>\n",
       "      <td>304</td>\n",
       "    </tr>\n",
       "    <tr>\n",
       "      <td>1</td>\n",
       "      <td>vegan</td>\n",
       "      <td>soccer</td>\n",
       "      <td>247</td>\n",
       "    </tr>\n",
       "    <tr>\n",
       "      <td>2</td>\n",
       "      <td>vegan</td>\n",
       "      <td>Conservative</td>\n",
       "      <td>131</td>\n",
       "    </tr>\n",
       "    <tr>\n",
       "      <td>3</td>\n",
       "      <td>vegan</td>\n",
       "      <td>nfl</td>\n",
       "      <td>109</td>\n",
       "    </tr>\n",
       "    <tr>\n",
       "      <td>4</td>\n",
       "      <td>vegan</td>\n",
       "      <td>baseball</td>\n",
       "      <td>109</td>\n",
       "    </tr>\n",
       "  </tbody>\n",
       "</table>\n",
       "</div>"
      ],
      "text/plain": [
       "   sub_a         sub_b  people\n",
       "0  vegan           nba     304\n",
       "1  vegan        soccer     247\n",
       "2  vegan  Conservative     131\n",
       "3  vegan           nfl     109\n",
       "4  vegan      baseball     109"
      ]
     },
     "execution_count": 2,
     "metadata": {},
     "output_type": "execute_result"
    }
   ],
   "source": [
    "import pandas as pd\n",
    "df = pd.read_csv('veganpoliticssports.csv')\n",
    "df.head()"
   ]
  },
  {
   "cell_type": "code",
   "execution_count": 5,
   "metadata": {},
   "outputs": [
    {
     "data": {
      "text/plain": [
       "<matplotlib.axes._subplots.AxesSubplot at 0x11da92ed0>"
      ]
     },
     "execution_count": 5,
     "metadata": {},
     "output_type": "execute_result"
    },
    {
     "data": {
      "image/png": "[encoded data removed]",
      "text/plain": [
       "<Figure size 432x288 with 1 Axes>"
      ]
     },
     "metadata": {
      "needs_background": "light"
     },
     "output_type": "display_data"
    }
   ],
   "source": [
    "ax = df.plot.bar(x='sub_b', y='people', rot=1)\n",
    "ax"
   ]
  },
  {
   "cell_type": "code",
   "execution_count": null,
   "metadata": {},
   "outputs": [],
   "source": [
    "# i need to do this with more data samples ( I only used July 2019 data) I also need to include author counts for the subs in order to normalize the data\n",
    "#I want to test the null hypothesis that vegans on reddit aren't on r/conservative as they r/liberal. According to my sample, there is WAY MORE conservative crossover than there is liberal, even though r/conservative only has around 3 times more subscribers "
   ]
  }
 ],
 "metadata": {
  "kernelspec": {
   "display_name": "Python 3",
   "language": "python",
   "name": "python3"
  },
  "language_info": {
   "codemirror_mode": {
    "name": "ipython",
    "version": 3
   },
   "file_extension": ".py",
   "mimetype": "text/x-python",
   "name": "python",
   "nbconvert_exporter": "python",
   "pygments_lexer": "ipython3",
   "version": "3.7.4"
  }
 },
 "nbformat": 4,
 "nbformat_minor": 2
}
