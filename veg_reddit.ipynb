{
 "cells": [
  {
   "cell_type": "code",
   "execution_count": null,
   "metadata": {},
   "outputs": [],
   "source": [
    "# subreddit crossover\n",
    "#legacy sql\n",
    "# SELECT\n",
    "#   sub_a,\n",
    "#   sub_b,\n",
    "#   people,\n",
    "# FROM (\n",
    "#   SELECT\n",
    "#     sub_a,\n",
    "#     sub_b,\n",
    "#     people,\n",
    "#     COUNT(*) OVER(PARTITION BY sub_a) \n",
    "#   FROM (\n",
    "#     SELECT\n",
    "#       a.subreddit sub_a,\n",
    "#       b.subreddit sub_b,\n",
    "#       COUNT(*) people\n",
    "#     FROM (\n",
    "#       SELECT\n",
    "#         author,\n",
    "#         subreddit,\n",
    "#         authors\n",
    "#       FROM\n",
    "#         FLATTEN((\n",
    "#           SELECT\n",
    "#             UNIQUE(author) author,\n",
    "#             a.subreddit subreddit,\n",
    "#             FIRST(authors) authors\n",
    "#           FROM\n",
    "#             [fh-bigquery:reddit_comments.2019_07] a\n",
    "#           JOIN\n",
    "#             [fh-bigquery:reddit_comments.subr_rank_201505] b\n",
    "#           ON\n",
    "#             a.subreddit=b.subreddit\n",
    "#           GROUP EACH BY\n",
    "#             2 ),\n",
    "#           author) ) a\n",
    "#     JOIN EACH (\n",
    "#       SELECT\n",
    "#         author,\n",
    "#         subreddit\n",
    "#       FROM\n",
    "#         FLATTEN((\n",
    "#           SELECT\n",
    "#             UNIQUE(author) author,\n",
    "#             subreddit\n",
    "#           FROM\n",
    "#             [fh-bigquery:reddit_comments.2019_07]\n",
    "#           WHERE\n",
    "#             subreddit IN (\n",
    "#             SELECT\n",
    "#               subreddit\n",
    "#             FROM\n",
    "#               [fh-bigquery:reddit_comments.subr_rank_201505] )\n",
    "#           GROUP BY\n",
    "#             2 ),\n",
    "#           author) ) b\n",
    "#     ON\n",
    "#       a.author=b.author\n",
    "#     WHERE\n",
    "#       a.subreddit!=b.subreddit\n",
    "#       AND ( (a.subreddit='vegan' AND b.subreddit='nfl') OR (a.subreddit ='vegan' AND b.subreddit = 'nba') \n",
    "#       OR (a.subreddit = 'vegan' AND b.subreddit = 'Boxing') OR (a.subreddit = 'vegan' AND b.subreddit = 'baseball') OR (a.subreddit = 'vegan' AND b.subreddit = 'soccer'))\n",
    "#       OR (a.subreddit = 'vegan' AND b.subreddit = 'Conservative') OR (a.subreddit = 'vegan' AND b.subreddit = 'Liberal') OR (a.subreddit = 'vegan' AND b.subreddit = 'programming') \n",
    "#       OR (a.subreddit = 'vegan' AND b.subreddit = 'datascience')\n",
    "#     GROUP EACH BY\n",
    "#       1,\n",
    "#       2 ) )\n",
    "# ORDER BY\n",
    "#   people DESC\n",
    "#     #\n",
    "    \n",
    "#     #veg score growth\n",
    "\n",
    "# SELECT AVG(a.score)\n",
    "# FROM `fh-bigquery.reddit_comments.2005` as a\n",
    "# WHERE REGEXP_CONTAINS(body, r'(?i).*vegan.*') \n",
    "# UNION ALL\n",
    "# SELECT AVG(b.score)\n",
    "# FROM `fh-bigquery.reddit_comments.2009` as b\n",
    "# WHERE REGEXP_CONTAINS(body, r'(?i).*vegan.*')\n",
    "# UNION ALL\n",
    "# SELECT AVG(c.score)\n",
    "# FROM `fh-bigquery.reddit_comments.2013` as c\n",
    "# WHERE REGEXP_CONTAINS(body, r'(?i).*vegan.*')\n",
    "# UNION ALL\n",
    "# SELECT AVG(d.score)\n",
    "# FROM `fh-bigquery.reddit_comments.2017_1*` as d\n",
    "# WHERE REGEXP_CONTAINS(body, r'(?i).*vegan.*')\n",
    "# UNION ALL\n",
    "# SELECT AVG(e.score)\n",
    "# FROM `fh-bigquery.reddit_comments.2019*` as e\n",
    "# WHERE REGEXP_CONTAINS(body, r'(?i).*vegan.*')\n",
    "\n",
    "\n",
    "# subreddit in( ‘vegan' 'nfl'  'nba'\n",
    "#       'baseball’,  'soccer'\n",
    "#       'Conservative’,  'Liberal' , 'Anarchism' , 'programming' , 'datascience'\n",
    "# GROUP BY subreddit\n",
    "\n",
    "             \n",
    "# SELECT month, subreddit, AVG(score), body , COUNT(DISTINCT author), COUNT(body)\n",
    "# FROM (\n",
    "# SELECT score,subreddit, author, body, LEFT(STRING(SEC_TO_TIMESTAMP(created_utc)), 7) month\n",
    "# FROM TABLE_QUERY([fh-bigquery:reddit_comments],\n",
    "#     \"table_id CONTAINS '2018'\")\n",
    "# )\n",
    "# #((?i).*Recipes).*\")\n",
    "# WHERE REGEXP_MATCH(body, r'(?i).*buffalo cauliflower.*') \n",
    "# GROUP EACH BY month, subreddit, body \n",
    " \n",
    "    \n",
    "# #This is some of  the sql queries I used"
   ]
  },
  {
   "cell_type": "code",
   "execution_count": 78,
   "metadata": {},
   "outputs": [],
   "source": [
    "%matplotlib inline\n",
    "import pandas as pd\n",
    "import matplotlib\n",
    "matplotlib.style.use('ggplot')\n",
    "import matplotlib.pyplot as plt\n",
    "import numpy as np\n",
    "\n",
    "df = pd.read_csv('veganpoliticssports.csv')\n",
    "veggrowth = pd.read_csv('vegscoregrowth.csv')\n",
    "nonveggrowth = pd.read_csv('nonvegscoregrowth.csv')\n",
    "#authorcounts = pd.read_csv('authcount.csv')\n"
   ]
  },
  {
   "cell_type": "code",
   "execution_count": 79,
   "metadata": {},
   "outputs": [],
   "source": [
    "\n",
    "#sports = df.loc[('nba', 'nfl', 'soccer', 'baseball', 'boxing'), ('sub_b', 'people')]\n",
    "#politics = df.loc[['Liberal', 'Conservative', 'Anarchism'], ['sub_b', 'people']]\n",
    "veggrowth = veggrowth.rename(columns = {\"f0_\": \"vegscore\", \n",
    "                                     }) \n"
   ]
  },
  {
   "cell_type": "code",
   "execution_count": 89,
   "metadata": {},
   "outputs": [
    {
     "data": {
      "text/plain": [
       "[Text(0, 0, 'nba'),\n",
       " Text(0, 0, 'soccer'),\n",
       " Text(0, 0, 'Conservative'),\n",
       " Text(0, 0, 'nfl'),\n",
       " Text(0, 0, 'baseball'),\n",
       " Text(0, 0, 'programming'),\n",
       " Text(0, 0, 'Boxing'),\n",
       " Text(0, 0, 'datascience'),\n",
       " Text(0, 0, 'Liberal')]"
      ]
     },
     "execution_count": 89,
     "metadata": {},
     "output_type": "execute_result"
    },
    {
     "data": {
      "image/png": "[encoded data removed]",
      "text/plain": [
       "<Figure size 432x288 with 1 Axes>"
      ]
     },
     "metadata": {},
     "output_type": "display_data"
    }
   ],
   "source": [
    "ax = df.plot.bar(x='sub_b', y='people', rot=1)\n",
    "ax.set_xticklabels(df['sub_b'], rotation = 90, ha=\"right\")"
   ]
  },
  {
   "cell_type": "code",
   "execution_count": null,
   "metadata": {},
   "outputs": [],
   "source": []
  },
  {
   "cell_type": "code",
   "execution_count": null,
   "metadata": {},
   "outputs": [],
   "source": []
  },
  {
   "cell_type": "code",
   "execution_count": 81,
   "metadata": {},
   "outputs": [
    {
     "data": {
      "text/html": [
       "<div>\n",
       "<style scoped>\n",
       "    .dataframe tbody tr th:only-of-type {\n",
       "        vertical-align: middle;\n",
       "    }\n",
       "\n",
       "    .dataframe tbody tr th {\n",
       "        vertical-align: top;\n",
       "    }\n",
       "\n",
       "    .dataframe thead th {\n",
       "        text-align: right;\n",
       "    }\n",
       "</style>\n",
       "<table border=\"1\" class=\"dataframe\">\n",
       "  <thead>\n",
       "    <tr style=\"text-align: right;\">\n",
       "      <th></th>\n",
       "      <th>vegscore</th>\n",
       "      <th>years</th>\n",
       "      <th>C</th>\n",
       "    </tr>\n",
       "  </thead>\n",
       "  <tbody>\n",
       "    <tr>\n",
       "      <td>0</td>\n",
       "      <td>3.545109</td>\n",
       "      <td>2005</td>\n",
       "      <td>1.0</td>\n",
       "    </tr>\n",
       "    <tr>\n",
       "      <td>1</td>\n",
       "      <td>4.345169</td>\n",
       "      <td>2009</td>\n",
       "      <td>1.5</td>\n",
       "    </tr>\n",
       "    <tr>\n",
       "      <td>2</td>\n",
       "      <td>5.567328</td>\n",
       "      <td>2013</td>\n",
       "      <td>3.5</td>\n",
       "    </tr>\n",
       "    <tr>\n",
       "      <td>3</td>\n",
       "      <td>8.143629</td>\n",
       "      <td>2017</td>\n",
       "      <td>4.0</td>\n",
       "    </tr>\n",
       "    <tr>\n",
       "      <td>4</td>\n",
       "      <td>8.653762</td>\n",
       "      <td>2019</td>\n",
       "      <td>5.0</td>\n",
       "    </tr>\n",
       "  </tbody>\n",
       "</table>\n",
       "</div>"
      ],
      "text/plain": [
       "   vegscore  years    C\n",
       "0  3.545109   2005  1.0\n",
       "1  4.345169   2009  1.5\n",
       "2  5.567328   2013  3.5\n",
       "3  8.143629   2017  4.0\n",
       "4  8.653762   2019  5.0"
      ]
     },
     "execution_count": 81,
     "metadata": {},
     "output_type": "execute_result"
    }
   ],
   "source": [
    "# i need to do this with more data samples ( I only used July 2019 data) I also need to include author counts for the subs in order to normalize the data\n",
    "#I want to test the null hypothesis that vegans on reddit aren't on r/conservative as they r/liberal. According to my sample, there is WAY MORE conservative crossover than there is liberal, even though r/conservative only has around 3 times more subscribers\n",
    "veggrowth['years'] = pd.Series([2005,2009,2013,2017,2019])\n",
    "veggrowth['C'] = pd.Series([1, 1.5, 3.5, 4, 5])\n",
    "\n",
    "veggrowth.head()\n",
    "\n"
   ]
  },
  {
   "cell_type": "code",
   "execution_count": 84,
   "metadata": {},
   "outputs": [
    {
     "data": {
      "text/html": [
       "<div>\n",
       "<style scoped>\n",
       "    .dataframe tbody tr th:only-of-type {\n",
       "        vertical-align: middle;\n",
       "    }\n",
       "\n",
       "    .dataframe tbody tr th {\n",
       "        vertical-align: top;\n",
       "    }\n",
       "\n",
       "    .dataframe thead th {\n",
       "        text-align: right;\n",
       "    }\n",
       "</style>\n",
       "<table border=\"1\" class=\"dataframe\">\n",
       "  <thead>\n",
       "    <tr style=\"text-align: right;\">\n",
       "      <th></th>\n",
       "      <th>nonvegscore</th>\n",
       "      <th>years</th>\n",
       "    </tr>\n",
       "  </thead>\n",
       "  <tbody>\n",
       "    <tr>\n",
       "      <td>0</td>\n",
       "      <td>1.562791</td>\n",
       "      <td>2005</td>\n",
       "    </tr>\n",
       "    <tr>\n",
       "      <td>1</td>\n",
       "      <td>3.833102</td>\n",
       "      <td>2009</td>\n",
       "    </tr>\n",
       "    <tr>\n",
       "      <td>2</td>\n",
       "      <td>8.826347</td>\n",
       "      <td>2013</td>\n",
       "    </tr>\n",
       "    <tr>\n",
       "      <td>3</td>\n",
       "      <td>5.657964</td>\n",
       "      <td>2017</td>\n",
       "    </tr>\n",
       "    <tr>\n",
       "      <td>4</td>\n",
       "      <td>8.107228</td>\n",
       "      <td>2019</td>\n",
       "    </tr>\n",
       "  </tbody>\n",
       "</table>\n",
       "</div>"
      ],
      "text/plain": [
       "   nonvegscore  years\n",
       "0     1.562791   2005\n",
       "1     3.833102   2009\n",
       "2     8.826347   2013\n",
       "3     5.657964   2017\n",
       "4     8.107228   2019"
      ]
     },
     "execution_count": 84,
     "metadata": {},
     "output_type": "execute_result"
    }
   ],
   "source": [
    "nonveggrowth = nonveggrowth.rename(columns = {\"f0_\": \"nonvegscore\", \n",
    "                                        }) \n",
    "nonveggrowth['years'] = pd.Series([2005,2009,2013,2017,2019])\n",
    "\n",
    "nonveggrowth.head()"
   ]
  },
  {
   "cell_type": "code",
   "execution_count": 82,
   "metadata": {},
   "outputs": [
    {
     "data": {
      "text/plain": [
       "[<matplotlib.lines.Line2D at 0x120fefbd0>]"
      ]
     },
     "execution_count": 82,
     "metadata": {},
     "output_type": "execute_result"
    },
    {
     "data": {
      "image/png": "[encoded data removed]",
      "text/plain": [
       "<Figure size 1152x576 with 2 Axes>"
      ]
     },
     "metadata": {},
     "output_type": "display_data"
    }
   ],
   "source": [
    "fig, ax = plt.subplots(figsize = (16,8))\n",
    "cmap = matplotlib.cm.Greens(np.linspace(0,1,20))\n",
    "cmap = matplotlib.colors.ListedColormap(cmap[10:,:-1])\n",
    "#ax.scatter(x = veggrowth.index, veggrowth['vegscore'], lw=2, marker='.', markersize=10, title='Comment score with word vegan in them')\n",
    "graph = veggrowth.plot(kind=\"scatter\", x=\"years\", y =\"vegscore\", c=\"C\", cmap = cmap, s = 50, ax = ax)\n",
    "ax.set_xlabel(\"time\",fontsize = 30) # fix time \n",
    "ax.set_ylabel(\"score\", fontsize = 24)\n",
    "x = veggrowth['years',fontsize = 24]\n",
    "y = veggrowth['vegscore']\n",
    "z = np.polyfit(x, y, 1)\n",
    "p = np.poly1d(z)\n",
    "plt.plot(x,p(x))"
   ]
  },
  {
   "cell_type": "code",
   "execution_count": 86,
   "metadata": {},
   "outputs": [
    {
     "data": {
      "text/plain": [
       "[<matplotlib.lines.Line2D at 0x12331ecd0>]"
      ]
     },
     "execution_count": 86,
     "metadata": {},
     "output_type": "execute_result"
    },
    {
     "data": {
      "image/png": "[encoded data removed]",
      "text/plain": [
       "<Figure size 1152x576 with 2 Axes>"
      ]
     },
     "metadata": {},
     "output_type": "display_data"
    }
   ],
   "source": [
    "fig, ax = plt.subplots(figsize = (16,8))\n",
    "cmap = matplotlib.cm.Reds(np.linspace(0,1,20))\n",
    "cmap = matplotlib.colors.ListedColormap(cmap[10:,:-1])\n",
    "#ax.scatter(x = veggrowth.index, veggrowth['vegscore'], lw=2, marker='.', markersize=10, title='Comment score with word vegan in them')\n",
    "graph = nonveggrowth.plot(kind=\"scatter\", x=\"years\", y =\"nonvegscore\", c=\"C\", cmap = cmap, s = 50, ax = ax)\n",
    "ax.set_xlabel(\"years\", fontsize = 22) # fix time \n",
    "ax.set_ylabel(\"score\", fontsize = 22)\n",
    "x = nonveggrowth['years']\n",
    "y = nonveggrowth['nonvegscore']\n",
    "z = np.polyfit(x, y, 1)\n",
    "p = np.poly1d(z)\n",
    "plt.plot(x,p(x))"
   ]
  },
  {
   "cell_type": "code",
   "execution_count": null,
   "metadata": {},
   "outputs": [],
   "source": [
    "\n"
   ]
  },
  {
   "cell_type": "code",
   "execution_count": null,
   "metadata": {},
   "outputs": [],
   "source": []
  }
 ],
 "metadata": {
  "kernelspec": {
   "display_name": "Python 3",
   "language": "python",
   "name": "python3"
  },
  "language_info": {
   "codemirror_mode": {
    "name": "ipython",
    "version": 3
   },
   "file_extension": ".py",
   "mimetype": "text/x-python",
   "name": "python",
   "nbconvert_exporter": "python",
   "pygments_lexer": "ipython3",
   "version": "3.7.4"
  }
 },
 "nbformat": 4,
 "nbformat_minor": 2
}
